{
 "cells": [
  {
   "cell_type": "code",
   "execution_count": 9,
   "metadata": {},
   "outputs": [],
   "source": [
    "import pandas as pd\n",
    "import os\n",
    "import numpy as np\n",
    "import geopandas as gpd\n",
    "import matplotlib.pyplot as plt\n",
    "#import seaborn as sns\n",
    "import osmnx as ox\n",
    "import pyotp\n",
    "import requests\n"
   ]
  },
  {
   "cell_type": "code",
   "execution_count": 10,
   "metadata": {},
   "outputs": [],
   "source": [
    "ox.__version__"
   ]
  },
  {
   "cell_type": "code",
   "execution_count": 11,
   "metadata": {},
   "outputs": [],
   "source": [
    "print('hi')"
   ]
  },
  {
   "cell_type": "code",
   "execution_count": null,
   "metadata": {},
   "outputs": [],
   "source": [
    "Install java and then pip install opentripplanner"
   ]
  },
  {
   "cell_type": "markdown",
   "metadata": {},
   "source": [
    "https://github.com/mattwigway/opentripplanner-jython"
   ]
  },
  {
   "cell_type": "code",
   "execution_count": 5,
   "metadata": {},
   "outputs": [],
   "source": [
    "address=\"Austin,Texas\"\n",
    "# dist= retain only those nodes within this many meters of the center of the graph, default is \n",
    "# the center of the address is the center of the graph\n",
    "Austin_graph=ox.graph.graph_from_address(address, dist=20000, dist_type='bbox', network_type='bike', simplify=True, retain_all=False, truncate_by_edge=False, return_coords=False, clean_periphery=True, custom_filter=None) # I am using 'bike' as type of network as I includes all infractures that are used for walking (sidewalks..) as well as cycling (trails..). It also include residential roads used for biking."
   ]
  },
  {
   "cell_type": "code",
   "execution_count": 6,
   "metadata": {},
   "outputs": [],
   "source": [
    "Austin_graph.head(5)"
   ]
  },
  {
   "cell_type": "code",
   "execution_count": 3,
   "metadata": {},
   "outputs": [],
   "source": [
    "ox.plot_graph(Austin_graph)"
   ]
  },
  {
   "cell_type": "code",
   "execution_count": 20,
   "metadata": {},
   "outputs": [
    {
     "data": {
      "text/plain": [
       "1"
      ]
     },
     "execution_count": 20,
     "metadata": {},
     "output_type": "execute_result"
    }
   ],
   "source": [
    "os.system(\"java -Xmx2G -jar otp-2.2.0-shaded.jar --build --serve /home/username/otp\")"
   ]
  },
  {
   "cell_type": "code",
   "execution_count": 8,
   "metadata": {},
   "outputs": [
    {
     "ename": "AttributeError",
     "evalue": "module 'osmnx' has no attribute 'save_osm'",
     "output_type": "error",
     "traceback": [
      "\u001b[1;31m---------------------------------------------------------------------------\u001b[0m",
      "\u001b[1;31mAttributeError\u001b[0m                            Traceback (most recent call last)",
      "Input \u001b[1;32mIn [8]\u001b[0m, in \u001b[0;36m<cell line: 1>\u001b[1;34m()\u001b[0m\n\u001b[1;32m----> 1\u001b[0m \u001b[43mox\u001b[49m\u001b[38;5;241;43m.\u001b[39;49m\u001b[43msave_osm\u001b[49m(Austin_graph, filename\u001b[38;5;241m=\u001b[39m\u001b[38;5;124m'\u001b[39m\u001b[38;5;124maccess calculation/graphs from osm/austin20k.osm\u001b[39m\u001b[38;5;124m'\u001b[39m)\n",
      "\u001b[1;31mAttributeError\u001b[0m: module 'osmnx' has no attribute 'save_osm'"
     ]
    }
   ],
   "source": [
    "ox.save_osm(Austin_graph, filename='access calculation/graphs from osm/austin20k.osm')"
   ]
  },
  {
   "cell_type": "code",
   "execution_count": 21,
   "metadata": {},
   "outputs": [],
   "source": [
    "ox.save_graph_xml(Austin_graph,'Data/OTP/austin20k.osm')"
   ]
  },
  {
   "cell_type": "code",
   "execution_count": null,
   "metadata": {},
   "outputs": [],
   "source": []
  },
  {
   "cell_type": "code",
   "execution_count": 13,
   "metadata": {},
   "outputs": [],
   "source": [
    "ox.save_graphml(Austin_graph,'Data/OTP/austin20k.graphml')"
   ]
  },
  {
   "cell_type": "code",
   "execution_count": 50,
   "metadata": {},
   "outputs": [],
   "source": [
    "ox.save_graph_geopackage(Austin_graph, filepath='Data/OTP/austin20k_graph.gpkg')"
   ]
  },
  {
   "cell_type": "code",
   "execution_count": 45,
   "metadata": {},
   "outputs": [
    {
     "data": {
      "text/plain": [
       "'1.2.3'"
      ]
     },
     "execution_count": 45,
     "metadata": {},
     "output_type": "execute_result"
    }
   ],
   "source": [
    "ox.__version__\n"
   ]
  },
  {
   "cell_type": "code",
   "execution_count": 1,
   "metadata": {},
   "outputs": [
    {
     "name": "stdout",
     "output_type": "stream",
     "text": [
      "hi\n"
     ]
    }
   ],
   "source": [
    "print('hi')"
   ]
  },
  {
   "cell_type": "code",
   "execution_count": 12,
   "metadata": {},
   "outputs": [],
   "source": [
    "import pyotp\n",
    "\n",
    "otp_url = \"http://localhost:8080/otp/routers/default/plan\"\n",
    "otp = pyotp.TOTP('<YOUR_OTP_SECRET>')"
   ]
  },
  {
   "cell_type": "code",
   "execution_count": null,
   "metadata": {},
   "outputs": [],
   "source": [
    "import pyotp\n",
    "\n",
    "otp_url = \"http://localhost:8080/otp/routers/default/plan\"\n",
    "otp = pyotp.TOTP('<YOUR_OTP_SECRET>')\n",
    "\n",
    "payload = {\n",
    "    'fromPlace': '37.7749,-122.4194',\n",
    "    'toPlace': '37.8716,-122.2727',\n",
    "    'time': '3:00pm',\n",
    "    'date': '03-13-2023',\n",
    "    'mode': 'TRANSIT,WALK'\n",
    "}\n",
    "\n",
    "headers = {'Authorization': 'Bearer {}'.format(otp.now())}\n",
    "\n",
    "response = requests.get(otp_url, headers=headers, params=payload)"
   ]
  },
  {
   "cell_type": "code",
   "execution_count": null,
   "metadata": {},
   "outputs": [],
   "source": [
    "#Replace <YOUR_OTP_SECRET> with the OTP secret that you configured in the opentripplanner.properties file."
   ]
  },
  {
   "cell_type": "code",
   "execution_count": null,
   "metadata": {},
   "outputs": [],
   "source": [
    "from pyotp.routing.algorithm import Dijkstra\n",
    "from opentripplanner.routing.graph import Graph\n",
    "\n",
    "# Create a router\n",
    "router = Graph.getRouter(graph, Dijkstra)"
   ]
  },
  {
   "cell_type": "code",
   "execution_count": null,
   "metadata": {},
   "outputs": [],
   "source": [
    "#Chattayy\n",
    "from opentripplanner.routing.services.accessibility import Accessibility\n",
    "from shapely.geometry import Point, Polygon\n",
    "\n",
    "# Set the accessibility parameters\n",
    "travel_time = 30*60  # 30 minutes in seconds\n",
    "cutoff_frequency = 1\n",
    "mode = 'WALK'\n",
    "walk_speed = 5  # mph\n",
    "\n",
    "# Calculate the accessible area for each point\n",
    "accessibility = Accessibility(router)\n",
    "accessible_areas = []\n",
    "\n",
    "for point in points:\n",
    "    # Find the accessible area around the point\n",
    "    center = Point(point[1], point[0])\n",
    "    travel_distance = travel_time * walk_speed / 3600  # miles\n",
    "    polygon = accessibility.getTravelDistancePolygon(center, travel_distance, mode, cutoff_frequency)\n",
    "\n",
    "    # Filter the jobs by the accessible area\n",
    "    jobs_within_area = jobs_shapefile[jobs_shapefile.intersects(polygon)]\n",
    "    total_jobs = jobs_within_area['num_jobs'].sum()\n",
    "\n",
    "    # Add the accessible area to the list\n",
    "    accessible_area = {'point': point, 'polygon': polygon, 'total_jobs': total_jobs}\n",
    "    accessible_areas.append(accessible_area)\n"
   ]
  },
  {
   "cell_type": "code",
   "execution_count": null,
   "metadata": {},
   "outputs": [],
   "source": []
  },
  {
   "cell_type": "code",
   "execution_count": null,
   "metadata": {},
   "outputs": [],
   "source": []
  },
  {
   "cell_type": "code",
   "execution_count": null,
   "metadata": {},
   "outputs": [],
   "source": []
  },
  {
   "cell_type": "code",
   "execution_count": null,
   "metadata": {},
   "outputs": [],
   "source": []
  },
  {
   "cell_type": "code",
   "execution_count": null,
   "metadata": {},
   "outputs": [],
   "source": []
  },
  {
   "cell_type": "markdown",
   "metadata": {},
   "source": [
    "### OLD"
   ]
  },
  {
   "cell_type": "code",
   "execution_count": 2,
   "metadata": {},
   "outputs": [],
   "source": [
    "all_df=pd.read_csv(\"C:/Users/P-Koirala/OneDrive - Texas A&M Transportation Institute/Desktop/Data/SUP/#RAW/Data/All_Stations_Demographic.csv\")"
   ]
  },
  {
   "cell_type": "code",
   "execution_count": 3,
   "metadata": {},
   "outputs": [],
   "source": [
    "df_stations=pd.read_excel(\"C:/Users/P-Koirala/OneDrive - Texas A&M Transportation Institute/Desktop/Data/SUP/#RAW/Data/FullSUPIdentifiedData.xlsx\", sheet_name=\"SUPData\", usecols=[\"stationid\",\"sharedpath\", \"Latitude\",'Longitude'])\n",
    "df_stations=df_stations[df_stations.sharedpath==1]"
   ]
  },
  {
   "cell_type": "code",
   "execution_count": 4,
   "metadata": {},
   "outputs": [],
   "source": [
    "\n",
    "df_stations=pd.read_excel(\"C:/Users/P-Koirala/OneDrive - Texas A&M Transportation Institute/Desktop/Data/SUP/#RAW/Data/FullSUPIdentifiedData.xlsx\", sheet_name=\"SUPData\", usecols=[\"stationid\",\"sharedpath\", \"Latitude\",'Longitude'])\n",
    "# df_stations=df_stations[df_stations.sharedpath==1]\n",
    "# df_stations.reset_index(inplace=True, drop=True)\n"
   ]
  },
  {
   "cell_type": "code",
   "execution_count": 5,
   "metadata": {},
   "outputs": [],
   "source": [
    "import osmnx as ox\n",
    "import networkx as nx\n",
    "import pandas as pd\n",
    "\n",
    "def intersections_around_buffers(locations, buffer_distances):\n",
    "    intersections = {}\n",
    "    Table=[]\n",
    "    sum=0\n",
    "    intersections_count = {i: 0 for i in range(len(buffer_distances))} \n",
    "    for loc in locations:\n",
    "        # Iterate over the buffer distances\n",
    "        for i, distance in enumerate(buffer_distances):\n",
    "            try:\n",
    "                G = ox.graph_from_point(loc, dist=distance, network_type='drive')\n",
    "                if G is None or len(G.nodes())==0:\n",
    "                    intersections_count[i] = 0\n",
    "                    continue\n",
    "                # Find the nodes that have more than 2 edges, which correspond to intersections\n",
    "                nodes_intersections = [node for node, degree in G.degree() if degree > 2]\n",
    "                intersections_count[i] = len(nodes_intersections)\n",
    "            except:\n",
    "                intersections_count[i] = 0\n",
    "                continue\n",
    "        dic={\n",
    "            'Intsct_025mile':intersections_count[0],\n",
    "            'Intsct_05mile':intersections_count[1],\n",
    "            'Intsct_1mile':intersections_count[2]\n",
    "            }\n",
    "        Table.append(dic)\n",
    "        print(sum)\n",
    "        sum+=1\n",
    "    return Table\n",
    "    \n"
   ]
  },
  {
   "cell_type": "code",
   "execution_count": 6,
   "metadata": {},
   "outputs": [],
   "source": [
    "\n",
    "# Example usage\n",
    "df_stations=pd.read_excel(\"C:/Users/P-Koirala/OneDrive - Texas A&M Transportation Institute/Desktop/Data/SUP/#RAW/Data/FullSUPIdentifiedData.xlsx\", sheet_name=\"SUPData\", usecols=[\"stationid\",\"sharedpath\", \"Latitude\",'Longitude'])\n",
    "df_stations.reset_index(inplace=True, drop=True)"
   ]
  },
  {
   "cell_type": "code",
   "execution_count": 7,
   "metadata": {},
   "outputs": [],
   "source": [
    "df_stations=df_stations.drop([302,590]) #One row has been removed because it was creating bug which could not be fixed"
   ]
  },
  {
   "cell_type": "code",
   "execution_count": 8,
   "metadata": {},
   "outputs": [
    {
     "name": "stdout",
     "output_type": "stream",
     "text": [
      "0\n"
     ]
    }
   ],
   "source": [
    "\n",
    "buffer_distances = [402.34, 804.672, 1609.34] # 0.25, 0.5 and 1 mile converted into meters\n",
    "location = [(x,y) for x,y in zip(df_stations[\"Latitude\"],df_stations[\"Longitude\"])]\n",
    "\n",
    "result = intersections_around_buffers(location, buffer_distances)\n",
    "result=pd.DataFrame(result)\n",
    "result['stationid']=df_stations[\"stationid\"]"
   ]
  },
  {
   "cell_type": "code",
   "execution_count": null,
   "metadata": {},
   "outputs": [
    {
     "data": {
      "text/html": [
       "<div>\n",
       "<style scoped>\n",
       "    .dataframe tbody tr th:only-of-type {\n",
       "        vertical-align: middle;\n",
       "    }\n",
       "\n",
       "    .dataframe tbody tr th {\n",
       "        vertical-align: top;\n",
       "    }\n",
       "\n",
       "    .dataframe thead th {\n",
       "        text-align: right;\n",
       "    }\n",
       "</style>\n",
       "<table border=\"1\" class=\"dataframe\">\n",
       "  <thead>\n",
       "    <tr style=\"text-align: right;\">\n",
       "      <th></th>\n",
       "      <th>Intsct_05miles</th>\n",
       "      <th>Intsct_1mile</th>\n",
       "      <th>stationid</th>\n",
       "    </tr>\n",
       "  </thead>\n",
       "  <tbody>\n",
       "    <tr>\n",
       "      <th>0</th>\n",
       "      <td>21</td>\n",
       "      <td>86</td>\n",
       "      <td>MR0001</td>\n",
       "    </tr>\n",
       "    <tr>\n",
       "      <th>1</th>\n",
       "      <td>53</td>\n",
       "      <td>401</td>\n",
       "      <td>AU0116</td>\n",
       "    </tr>\n",
       "    <tr>\n",
       "      <th>2</th>\n",
       "      <td>54</td>\n",
       "      <td>398</td>\n",
       "      <td>AU0115</td>\n",
       "    </tr>\n",
       "    <tr>\n",
       "      <th>3</th>\n",
       "      <td>92</td>\n",
       "      <td>420</td>\n",
       "      <td>AU0114</td>\n",
       "    </tr>\n",
       "    <tr>\n",
       "      <th>4</th>\n",
       "      <td>88</td>\n",
       "      <td>421</td>\n",
       "      <td>AU0113</td>\n",
       "    </tr>\n",
       "    <tr>\n",
       "      <th>...</th>\n",
       "      <td>...</td>\n",
       "      <td>...</td>\n",
       "      <td>...</td>\n",
       "    </tr>\n",
       "    <tr>\n",
       "      <th>674</th>\n",
       "      <td>122</td>\n",
       "      <td>382</td>\n",
       "      <td>LE0002</td>\n",
       "    </tr>\n",
       "    <tr>\n",
       "      <th>675</th>\n",
       "      <td>54</td>\n",
       "      <td>238</td>\n",
       "      <td>LE0001</td>\n",
       "    </tr>\n",
       "    <tr>\n",
       "      <th>676</th>\n",
       "      <td>34</td>\n",
       "      <td>281</td>\n",
       "      <td>CP0001</td>\n",
       "    </tr>\n",
       "    <tr>\n",
       "      <th>677</th>\n",
       "      <td>37</td>\n",
       "      <td>280</td>\n",
       "      <td>AU0085</td>\n",
       "    </tr>\n",
       "    <tr>\n",
       "      <th>678</th>\n",
       "      <td>128</td>\n",
       "      <td>441</td>\n",
       "      <td>AU0082</td>\n",
       "    </tr>\n",
       "  </tbody>\n",
       "</table>\n",
       "<p>679 rows × 3 columns</p>\n",
       "</div>"
      ],
      "text/plain": [
       "     Intsct_05miles  Intsct_1mile stationid\n",
       "0                21            86    MR0001\n",
       "1                53           401    AU0116\n",
       "2                54           398    AU0115\n",
       "3                92           420    AU0114\n",
       "4                88           421    AU0113\n",
       "..              ...           ...       ...\n",
       "674             122           382    LE0002\n",
       "675              54           238    LE0001\n",
       "676              34           281    CP0001\n",
       "677              37           280    AU0085\n",
       "678             128           441    AU0082\n",
       "\n",
       "[679 rows x 3 columns]"
      ]
     },
     "execution_count": 127,
     "metadata": {},
     "output_type": "execute_result"
    }
   ],
   "source": [
    "result"
   ]
  },
  {
   "cell_type": "code",
   "execution_count": 129,
   "metadata": {},
   "outputs": [],
   "source": [
    "result.to_csv(\"Data/Temp/Intersection_count_osm2.csv\")"
   ]
  },
  {
   "cell_type": "code",
   "execution_count": null,
   "metadata": {},
   "outputs": [],
   "source": [
    "#counting bus stops via OSMnx\n",
    "# import osmnx as ox\n",
    "\n",
    "# def transit_stops_around_buffers_by_year(locations, buffer_distances):\n",
    "#     transit_stops = {}\n",
    "#     Table=[]\n",
    "#     sum=0\n",
    "#     for loc in locations:\n",
    "#         bus_stops_count = [0]*len(buffer_distances) \n",
    "#         metro_stops_count = [0]*len(buffer_distances) \n",
    "#         train_stops_count = [0]*len(buffer_distances) \n",
    "#         for i, distance in enumerate(buffer_distances):\n",
    "#             # Get the street network within the buffer distance\n",
    "#             G = ox.graph_from_point(loc, dist=distance, network_type='drive')\n",
    "#             # Find the nodes that are bus stops\n",
    "#             bus_stop_nodes = [node for node, data in G.nodes(data=True) if data.get('highway') == 'bus_stop']\n",
    "#             bus_stops_count[i] = len(bus_stop_nodes)\n",
    "#             # Find the nodes that are metro stops\n",
    "#             metro_stop_nodes = [node for node, data in G.nodes(data=True) if data.get('public_transport') == 'station' and (data.get('railway') == 'subway_entrance' or (data.get('railway') == 'station' and data.get('subway') == 'yes'))]\n",
    "#             metro_stops_count[i] = len(metro_stop_nodes)\n",
    "#             # Find the nodes that are other transit stations\n",
    "#             train_stop_nodes = [node for node, data in G.nodes(data=True) if data.get('public_transit') == 'station' and data.get('railway') == 'station']\n",
    "#             train_stops_count[i] = len(train_stop_nodes)\n",
    "#         dic={\n",
    "#             'bus_stop_05miles':bus_stops_count[0],\n",
    "#             'bus_stop_1mile':bus_stops_count[1],\n",
    "#             'metro_05miles':metro_stops_count[0],\n",
    "#             'metro_1mile':metro_stops_count[1],\n",
    "#             'train_stop_05mile':train_stops_count[0],\n",
    "#             'train_stop_05mile':train_stops_count[1],\n",
    "#             }\n",
    "#         Table.append(dic)\n",
    "#         print(sum)\n",
    "#         sum+=1\n",
    "#     return Table\n",
    "# buffer_distances = [804.672, 1609.34] # 0.5 band 1 mile converted into meters\n",
    "# location = [ (x,y) for x,y in zip(df_stations[\"Latitude\"],df_stations[\"Longitude\"])]\n",
    "# result = transit_stops_around_buffers_by_year(location, buffer_distances)\n",
    "# result=pd.DataFrame(result)\n",
    "# result['stationid']=df_stations[\"stationid\"]\n",
    "# result"
   ]
  },
  {
   "cell_type": "markdown",
   "metadata": {},
   "source": [
    "# Smart Location (Didnt work; too many empty)"
   ]
  },
  {
   "cell_type": "markdown",
   "metadata": {},
   "source": [
    "Rows woth values -99999 are deleted.\n",
    " A value of “-99999” was assigned to SLD transit-based variables (D4 and D5b, D5d) that exceeded distance\n",
    "thresholds or did not have GTFS data coverage. Shoreline or CBGs in water bodies with no land area, no\n",
    "population and no jobs were also assigned a value of “-99999”. "
   ]
  },
  {
   "cell_type": "code",
   "execution_count": 101,
   "metadata": {},
   "outputs": [],
   "source": [
    "#preparing smart location data. Polygon geospatial data\n",
    "smrt=gpd.read_file(\"C:/Users/P-Koirala/OneDrive - Texas A&M Transportation Institute/Desktop/Data/SUP/#RAW/Data/Texas_smartlocation\")\n",
    "smrt.drop(smrt[smrt.D4A<0].index, inplace=True)\n",
    "smrt.drop(smrt[smrt.D4C<0].index, inplace=True)\n",
    "smrt.drop(smrt[smrt.D4D<0].index, inplace=True)\n",
    "smrt=smrt.to_crs(\"EPSG:2277\")\n",
    "#preparing station location data. Point geospatial data\n",
    "df_stations=pd.read_excel(\"C:/Users/P-Koirala/OneDrive - Texas A&M Transportation Institute/Desktop/Data/SUP/#RAW/Data/FullSUPIdentifiedData.xlsx\", sheet_name=\"SUPData\", usecols=[\"stationid\",\"sharedpath\", \"Latitude\",'Longitude'])\n",
    "df_stations=gpd.GeoDataFrame(df_stations,geometry=gpd.points_from_xy(df_stations.Longitude,df_stations.Latitude),crs='EPSG:4326')\n",
    "df_stations=df_stations.to_crs(\"EPSG:2277\")\n"
   ]
  },
  {
   "cell_type": "code",
   "execution_count": 102,
   "metadata": {},
   "outputs": [],
   "source": [
    "def get_sjoin_data(smrt, df_station, buffer_distances):\n",
    "    inters_list = []\n",
    "    # create a copy of station dataframe and apply buffer of given distance\n",
    "    for distance in buffer_distances:\n",
    "        buffer = df_stations.copy(deep=True)\n",
    "        buffer.geometry = df_stations.geometry.buffer(distance)\n",
    "        # join buffered station location data and smart location polygon data\n",
    "        inters = buffer.sjoin(smrt, how='left', predicate='intersects')\n",
    "        inters[\"smrt_area\"] = inters['geometry'].area\n",
    "        inters.reset_index(inplace=True, drop=True)\n",
    "        inters_list.append(inters)\n",
    "    return inters_list\n",
    "buffer_distances = [1320, 2640, 5280]\n",
    "\n",
    "inters_list = get_sjoin_data(smrt,df_stations,buffer_distances)"
   ]
  },
  {
   "cell_type": "code",
   "execution_count": 103,
   "metadata": {},
   "outputs": [],
   "source": [
    "def get_buffer_built(inter, buffer_distance_name):\n",
    "    # define a function to find average values of columns with weights equal to the area of smart location\n",
    "    wm = lambda x: np.average(x, weights=inter.loc[x.index, \"smrt_area\"]) \n",
    "    # dictionary of columns and corresponding function to apply\n",
    "    f={'Ac_Unpr': wm,\n",
    "       'D3A':wm,\n",
    "       'D3AMM':wm,\n",
    "       'D3APO': wm,\n",
    "       'D3B': wm,\n",
    "       'NatWalkInd':wm,\n",
    "       'D4A':wm,\n",
    "       'D4C':wm,\n",
    "       'D4D':wm,\n",
    "      }\n",
    "    # group by SL and apply function defined above\n",
    "    newdf = inter.groupby('stationid').agg(f)\n",
    "    newdf.columns = [f'{col}_{buffer_distance_name}' for col in newdf.columns]\n",
    "    return newdf"
   ]
  },
  {
   "cell_type": "code",
   "execution_count": 104,
   "metadata": {},
   "outputs": [],
   "source": [
    "buffer_distance_names = ['025mile','05mile','1mile']\n",
    "final_df = pd.concat([get_buffer_built(inters, buffer_distance_name) for inters, buffer_distance_name in zip(inters_list, buffer_distance_names)], axis=1)"
   ]
  },
  {
   "cell_type": "code",
   "execution_count": 105,
   "metadata": {},
   "outputs": [
    {
     "data": {
      "text/html": [
       "<div>\n",
       "<style scoped>\n",
       "    .dataframe tbody tr th:only-of-type {\n",
       "        vertical-align: middle;\n",
       "    }\n",
       "\n",
       "    .dataframe tbody tr th {\n",
       "        vertical-align: top;\n",
       "    }\n",
       "\n",
       "    .dataframe thead th {\n",
       "        text-align: right;\n",
       "    }\n",
       "</style>\n",
       "<table border=\"1\" class=\"dataframe\">\n",
       "  <thead>\n",
       "    <tr style=\"text-align: right;\">\n",
       "      <th></th>\n",
       "      <th>stationid</th>\n",
       "      <th>Latitude</th>\n",
       "      <th>Longitude</th>\n",
       "      <th>sharedpath</th>\n",
       "      <th>geometry</th>\n",
       "    </tr>\n",
       "  </thead>\n",
       "  <tbody>\n",
       "    <tr>\n",
       "      <th>0</th>\n",
       "      <td>MR0001</td>\n",
       "      <td>30.343975</td>\n",
       "      <td>-97.579744</td>\n",
       "      <td>1</td>\n",
       "      <td>POINT (3165091.572 10099589.793)</td>\n",
       "    </tr>\n",
       "    <tr>\n",
       "      <th>1</th>\n",
       "      <td>AU0116</td>\n",
       "      <td>30.410493</td>\n",
       "      <td>-97.711836</td>\n",
       "      <td>1</td>\n",
       "      <td>POINT (3122866.401 10122768.312)</td>\n",
       "    </tr>\n",
       "    <tr>\n",
       "      <th>2</th>\n",
       "      <td>AU0115</td>\n",
       "      <td>30.410030</td>\n",
       "      <td>-97.712725</td>\n",
       "      <td>1</td>\n",
       "      <td>POINT (3122590.214 10122593.372)</td>\n",
       "    </tr>\n",
       "    <tr>\n",
       "      <th>3</th>\n",
       "      <td>AU0114</td>\n",
       "      <td>30.405223</td>\n",
       "      <td>-97.725768</td>\n",
       "      <td>1</td>\n",
       "      <td>POINT (3118520.869 10120749.033)</td>\n",
       "    </tr>\n",
       "    <tr>\n",
       "      <th>4</th>\n",
       "      <td>AU0113</td>\n",
       "      <td>30.405455</td>\n",
       "      <td>-97.725944</td>\n",
       "      <td>1</td>\n",
       "      <td>POINT (3118463.424 10120832.085)</td>\n",
       "    </tr>\n",
       "    <tr>\n",
       "      <th>...</th>\n",
       "      <td>...</td>\n",
       "      <td>...</td>\n",
       "      <td>...</td>\n",
       "      <td>...</td>\n",
       "      <td>...</td>\n",
       "    </tr>\n",
       "    <tr>\n",
       "      <th>676</th>\n",
       "      <td>CP0001</td>\n",
       "      <td>30.525024</td>\n",
       "      <td>-97.815445</td>\n",
       "      <td>1</td>\n",
       "      <td>POINT (3089272.245 10163656.576)</td>\n",
       "    </tr>\n",
       "    <tr>\n",
       "      <th>677</th>\n",
       "      <td>AU0085</td>\n",
       "      <td>30.502904</td>\n",
       "      <td>-97.808100</td>\n",
       "      <td>1</td>\n",
       "      <td>POINT (3091766.858 10155666.370)</td>\n",
       "    </tr>\n",
       "    <tr>\n",
       "      <th>678</th>\n",
       "      <td>AU0082</td>\n",
       "      <td>30.496881</td>\n",
       "      <td>-97.803128</td>\n",
       "      <td>1</td>\n",
       "      <td>POINT (3093382.071 10153512.039)</td>\n",
       "    </tr>\n",
       "    <tr>\n",
       "      <th>679</th>\n",
       "      <td>AU0079</td>\n",
       "      <td>30.496496</td>\n",
       "      <td>-97.802968</td>\n",
       "      <td>1</td>\n",
       "      <td>POINT (3093435.634 10153373.202)</td>\n",
       "    </tr>\n",
       "    <tr>\n",
       "      <th>680</th>\n",
       "      <td>AU0071</td>\n",
       "      <td>30.452949</td>\n",
       "      <td>-97.803038</td>\n",
       "      <td>0</td>\n",
       "      <td>POINT (3093773.878 10137539.367)</td>\n",
       "    </tr>\n",
       "  </tbody>\n",
       "</table>\n",
       "<p>681 rows × 5 columns</p>\n",
       "</div>"
      ],
      "text/plain": [
       "    stationid   Latitude  Longitude  sharedpath  \\\n",
       "0      MR0001  30.343975 -97.579744           1   \n",
       "1      AU0116  30.410493 -97.711836           1   \n",
       "2      AU0115  30.410030 -97.712725           1   \n",
       "3      AU0114  30.405223 -97.725768           1   \n",
       "4      AU0113  30.405455 -97.725944           1   \n",
       "..        ...        ...        ...         ...   \n",
       "676    CP0001  30.525024 -97.815445           1   \n",
       "677    AU0085  30.502904 -97.808100           1   \n",
       "678    AU0082  30.496881 -97.803128           1   \n",
       "679    AU0079  30.496496 -97.802968           1   \n",
       "680    AU0071  30.452949 -97.803038           0   \n",
       "\n",
       "                             geometry  \n",
       "0    POINT (3165091.572 10099589.793)  \n",
       "1    POINT (3122866.401 10122768.312)  \n",
       "2    POINT (3122590.214 10122593.372)  \n",
       "3    POINT (3118520.869 10120749.033)  \n",
       "4    POINT (3118463.424 10120832.085)  \n",
       "..                                ...  \n",
       "676  POINT (3089272.245 10163656.576)  \n",
       "677  POINT (3091766.858 10155666.370)  \n",
       "678  POINT (3093382.071 10153512.039)  \n",
       "679  POINT (3093435.634 10153373.202)  \n",
       "680  POINT (3093773.878 10137539.367)  \n",
       "\n",
       "[681 rows x 5 columns]"
      ]
     },
     "execution_count": 105,
     "metadata": {},
     "output_type": "execute_result"
    }
   ],
   "source": [
    "df_stations"
   ]
  },
  {
   "cell_type": "code",
   "execution_count": 106,
   "metadata": {},
   "outputs": [
    {
     "data": {
      "text/plain": [
       "Ac_Unpr_025mile       275\n",
       "D3A_025mile           275\n",
       "D3AMM_025mile         275\n",
       "D3APO_025mile         275\n",
       "D3B_025mile           275\n",
       "NatWalkInd_025mile    275\n",
       "D4A_025mile           275\n",
       "D4C_025mile           275\n",
       "D4D_025mile           275\n",
       "Ac_Unpr_05mile        268\n",
       "D3A_05mile            268\n",
       "D3AMM_05mile          268\n",
       "D3APO_05mile          268\n",
       "D3B_05mile            268\n",
       "NatWalkInd_05mile     268\n",
       "D4A_05mile            268\n",
       "D4C_05mile            268\n",
       "D4D_05mile            268\n",
       "Ac_Unpr_1mile         258\n",
       "D3A_1mile             258\n",
       "D3AMM_1mile           258\n",
       "D3APO_1mile           258\n",
       "D3B_1mile             258\n",
       "NatWalkInd_1mile      258\n",
       "D4A_1mile             258\n",
       "D4C_1mile             258\n",
       "D4D_1mile             258\n",
       "dtype: int64"
      ]
     },
     "execution_count": 106,
     "metadata": {},
     "output_type": "execute_result"
    }
   ],
   "source": [
    "final_df.isna().sum()"
   ]
  },
  {
   "cell_type": "code",
   "execution_count": 71,
   "metadata": {},
   "outputs": [],
   "source": [
    "final_df.to_csv(\"Data/Temp/Full_SmartLocation_data.csv\")"
   ]
  },
  {
   "cell_type": "markdown",
   "metadata": {},
   "source": [
    "# Bureau of Transportation Statistics (BTS) transit data for texas"
   ]
  },
  {
   "cell_type": "code",
   "execution_count": 130,
   "metadata": {},
   "outputs": [],
   "source": [
    "df_stations=pd.read_excel(\"C:/Users/P-Koirala/OneDrive - Texas A&M Transportation Institute/Desktop/Data/SUP/#RAW/Data/FullSUPIdentifiedData.xlsx\", sheet_name=\"SUPData\", usecols=[\"stationid\", \"Latitude\",'Longitude'])\n",
    "df_stations=gpd.GeoDataFrame(df_stations,geometry=gpd.points_from_xy(df_stations.Longitude,df_stations.Latitude),crs='EPSG:4326')\n",
    "df_stations=df_stations.to_crs(\"EPSG:2277\")\n",
    "Stops=gpd.read_file(\"C:/Users/P-Koirala/OneDrive - Texas A&M Transportation Institute/Desktop/Data/SUP/#RAW/Data/National_Transit_Map_Stops\")\n",
    "Stops=Stops.to_crs(\"EPSG:2277\")\n",
    "Routes=gpd.read_file(\"C:/Users/P-Koirala/OneDrive - Texas A&M Transportation Institute/Desktop/Data/SUP/#RAW/Data/National_Transit_Map_Routes\")\n",
    "Routes=Routes.to_crs(\"EPSG:2277\")\n",
    "#usecols=[\"stationid\",\"sharedpath\", \"Latitude\",'Longitude']"
   ]
  },
  {
   "cell_type": "code",
   "execution_count": 131,
   "metadata": {},
   "outputs": [
    {
     "data": {
      "text/plain": [
       "Index(['OBJECTID', 'stop_id', 'stop_name', 'stop_desc', 'stop_lat', 'stop_lon',\n",
       "       'zone_id', 'stop_url', 'stop_code', 'stop_stree', 'stop_city',\n",
       "       'stop_regio', 'stop_postc', 'stop_count', 'location_t', 'parent_sta',\n",
       "       'stop_timez', 'wheelchair', 'direction', 'position', 'level_id',\n",
       "       'platform_c', 'agency_id', 'zip', 'ntd_id', 'geometry'],\n",
       "      dtype='object')"
      ]
     },
     "execution_count": 131,
     "metadata": {},
     "output_type": "execute_result"
    }
   ],
   "source": [
    "Stops.columns"
   ]
  },
  {
   "cell_type": "code",
   "execution_count": 114,
   "metadata": {},
   "outputs": [],
   "source": [
    "\n",
    "\n",
    "#STOPS\n",
    "buffer_distances = [1320, 2640, 5280]\n",
    "inters_list = []\n",
    "# create a copy of station dataframe and apply buffer of given distance\n",
    "for distance in buffer_distances:\n",
    "    buffer = df_stations.copy(deep=True)\n",
    "    buffer.geometry = df_stations.geometry.buffer(distance)\n",
    "    # join buffered station location data and smart location polygon data\n",
    "    inters = buffer.sjoin(Stops, how='left', predicate='intersects')\n",
    "    inters.reset_index(inplace=True, drop=True)\n",
    "    inters_list.append(inters)\n",
    "#Count Stops\n",
    "def get_buffer_built(inter, buffer_distance_name):\n",
    "    \n",
    "    # group by SL and apply function defined above\n",
    "    newdf=inter.groupby('stationid').size().reset_index(name=f'stops_{buffer_distance_name}')\n",
    "    return newdf\n",
    "#Call Function\n",
    "buffer_distance_names = ['025mile','05mile','1mile']\n",
    "final_df = pd.concat([get_buffer_built(inters, buffer_distance_name) for inters, buffer_distance_name in zip(inters_list, buffer_distance_names)], axis=1)\n",
    "final_df = final_df.T.drop_duplicates().T\n",
    "\n"
   ]
  },
  {
   "cell_type": "code",
   "execution_count": null,
   "metadata": {},
   "outputs": [],
   "source": [
    "final_df.to_csv('Data/Temp/FINAL_Transit_stops2.csv')"
   ]
  },
  {
   "cell_type": "code",
   "execution_count": 115,
   "metadata": {},
   "outputs": [],
   "source": [
    "#########\n",
    "#Route\n",
    "url=\"C:/Users/P-Koirala/OneDrive - Texas A&M Transportation Institute/Desktop/Data/SUP/#RAW/Data/Temp/route_length_from_ArcGIS/GIS_route_length_\"\n",
    "url_end=('025.csv','05.csv','1.csv')\n",
    "file={}\n",
    "for i, buff in enumerate(url_end):\n",
    "    file[i]=pd.read_csv(url+buff)\n",
    "#\n",
    "buff_name=['025','05','1']\n",
    "buff_radii=[1320, 2640, 5280]\n",
    "final_data = pd.DataFrame()\n",
    "for i, buff in enumerate(url_end):\n",
    "    grouped_data = file[i].groupby(['stationid', 'route_ty_1'])['SUM_Shape_Length'].sum().reset_index()\n",
    "    grouped_data = grouped_data.pivot(index='stationid', columns='route_ty_1', values='SUM_Shape_Length')\n",
    "    grouped_data = grouped_data.rename(columns={'Bus': 'Bus_'+buff_name[i], 'Tram, Streetcar, Light rail': 'Tram_strcar_lrail_'+buff_name[i]})\n",
    "    grouped_data=grouped_data/ (np.pi*buff_radii[i]**2)\n",
    "    grouped_data.drop(['Cable car','Rail'], axis=1, inplace=True)\n",
    "    final_data = pd.concat([final_data, grouped_data], axis=1)\n"
   ]
  },
  {
   "cell_type": "code",
   "execution_count": null,
   "metadata": {},
   "outputs": [],
   "source": [
    "final_data.to_csv('Data/Temp/FINAL_Transit_route_density2.csv')"
   ]
  }
 ],
 "metadata": {
  "kernelspec": {
   "display_name": "Python 3 (ipykernel)",
   "language": "python",
   "name": "python3"
  },
  "language_info": {
   "codemirror_mode": {
    "name": "ipython",
    "version": 3
   },
   "file_extension": ".py",
   "mimetype": "text/x-python",
   "name": "python",
   "nbconvert_exporter": "python",
   "pygments_lexer": "ipython3",
   "version": "3.10.9"
  },
  "vscode": {
   "interpreter": {
    "hash": "2b53270c4e50afbf33628a12059691a33f1558a8e427dc048f15f23fd121ba86"
   }
  }
 },
 "nbformat": 4,
 "nbformat_minor": 2
}
