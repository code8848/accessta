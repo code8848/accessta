{
 "cells": [
  {
   "cell_type": "code",
   "execution_count": 1,
   "metadata": {},
   "outputs": [],
   "source": [
    "import pandas as pd\n",
    "import os\n",
    "import numpy as np\n",
    "import geopandas as gpd\n",
    "import matplotlib.pyplot as plt\n",
    "import seaborn as sns\n",
    "import osmnx as ox\n",
    "\n",
    "import warnings\n",
    "warnings.filterwarnings(\"ignore\")"
   ]
  },
  {
   "cell_type": "markdown",
   "metadata": {},
   "source": [
    "### Opening and cleaning data"
   ]
  },
  {
   "cell_type": "code",
   "execution_count": 48,
   "metadata": {},
   "outputs": [],
   "source": [
    "raw_data=pd.read_csv(\"C:/Users/P-Koirala/OneDrive - Texas A&M Transportation Institute/Desktop/Data/SUP/#RAW/Data/BPCX data from Phil/validated_counts as of 202212211558.csv/validated_counts as of 202212211558.csv\")"
   ]
  },
  {
   "cell_type": "code",
   "execution_count": null,
   "metadata": {},
   "outputs": [],
   "source": [
    "df_stations=pd.read_excel(\"C:/Users/P-Koirala/OneDrive - Texas A&M Transportation Institute/Desktop/Data/SUP/#RAW/Data/FullSUPIdentifiedData.xlsx\", sheet_name=\"SUPData\")"
   ]
  },
  {
   "cell_type": "code",
   "execution_count": 49,
   "metadata": {},
   "outputs": [],
   "source": [
    "#Extracting date and time variables\n",
    "raw_data['date_t'] = pd.to_datetime(raw_data['date'])\n",
    "raw_data['year']=raw_data['date_t'].dt.year"
   ]
  },
  {
   "cell_type": "code",
   "execution_count": 53,
   "metadata": {},
   "outputs": [],
   "source": [
    "raw_data['hour']=raw_data.date.str[10:13]\n",
    "raw_data['date']=raw_data.date.str[0:10]"
   ]
  },
  {
   "attachments": {},
   "cell_type": "markdown",
   "metadata": {},
   "source": [
    "### Only using .suspect_id == 0 or 8\n",
    "0.\tABV\tCount is abnormal but valid (ABV).\n",
    "1.\tI00\tData invalid due to multiple inconsistencies.\n",
    "2.\tI01\tData gap: a date stamp exists, but there are no corresponding count data.\n",
    "3.\tI02\tConsecutive zeros: there are 15 or more hours of 0-value counts.\n",
    "4.\tI03\tConsecutive non-zeros: there are 3 or more of the same count (only starts at counts of 15 or more).\n",
    "5.\tI04\tMaximum count: count exceeds 5,000 for one day or 1,500 for an hour or other time interval.\n",
    "6.\tI05\tInterquartile range: the count value is outside the interquartile range (outside the 25th and 75th percentile).\n",
    "7.\tI06\tAdjacent interval: a count jumps from 0 to 50 or higher.\n",
    "8.\tVAL\tValid count\n"
   ]
  },
  {
   "cell_type": "code",
   "execution_count": 54,
   "metadata": {},
   "outputs": [],
   "source": [
    "raw_data.suspect_id=raw_data.suspect_id.astype(str)"
   ]
  },
  {
   "cell_type": "code",
   "execution_count": 55,
   "metadata": {},
   "outputs": [],
   "source": [
    "#Only using data with suspect id 0 or 8\n",
    "condition=(raw_data.suspect_id=='8') | (raw_data.suspect_id=='0')\n",
    "raw_data=raw_data[condition]"
   ]
  },
  {
   "cell_type": "markdown",
   "metadata": {},
   "source": [
    "### Hour data"
   ]
  },
  {
   "cell_type": "code",
   "execution_count": null,
   "metadata": {},
   "outputs": [],
   "source": [
    "#Aggregating data with respect to hour and renaming raw_data to raw_data_\n",
    "sm=lambda x: np.sum(x)\n",
    "f={'count_int': sm,\n",
    "    'count': sm,\n",
    "    }\n",
    "raw_data_ = raw_data.groupby(['flowid_txdot','date','hour'],as_index=False).agg(f)"
   ]
  },
  {
   "cell_type": "code",
   "execution_count": null,
   "metadata": {},
   "outputs": [],
   "source": [
    "raw_data_['year']=pd.DatetimeIndex(raw_data_['date']).year"
   ]
  },
  {
   "cell_type": "code",
   "execution_count": null,
   "metadata": {},
   "outputs": [],
   "source": [
    "av=lambda x: np.average(x)\n",
    "f={\n",
    "    'count': av,\n",
    "    }\n",
    "raw_data_ = raw_data_.groupby(['flowid_txdot','year','hour'],as_index=False).agg(f)"
   ]
  },
  {
   "cell_type": "code",
   "execution_count": null,
   "metadata": {},
   "outputs": [],
   "source": [
    "raw_data_['Mode']=raw_data_['flowid_txdot'].str[-3:]\n",
    "raw_data_['direction']=raw_data_['flowid_txdot'].str[7:-4]\n",
    "raw_data_['station_id']=raw_data_['flowid_txdot'].str[:6]\n",
    "\n",
    "#renaming 'BIc' to 'Bic'\n",
    "raw_data_[raw_data_.Mode=='BIc'].Mode='Bic'\n"
   ]
  },
  {
   "cell_type": "code",
   "execution_count": null,
   "metadata": {},
   "outputs": [],
   "source": [
    "raw_data_.to_csv(\"Data/Temp/raw_data_.csv\", index=False) #This file contains data wrt to hour. This is save "
   ]
  },
  {
   "cell_type": "code",
   "execution_count": 4,
   "metadata": {},
   "outputs": [],
   "source": [
    "#raw_data_=pd.read_csv(\"Data/Temp/raw_data_.csv\")"
   ]
  },
  {
   "cell_type": "code",
   "execution_count": 8,
   "metadata": {},
   "outputs": [
    {
     "data": {
      "text/html": [
       "<div>\n",
       "<style scoped>\n",
       "    .dataframe tbody tr th:only-of-type {\n",
       "        vertical-align: middle;\n",
       "    }\n",
       "\n",
       "    .dataframe tbody tr th {\n",
       "        vertical-align: top;\n",
       "    }\n",
       "\n",
       "    .dataframe thead th {\n",
       "        text-align: right;\n",
       "    }\n",
       "</style>\n",
       "<table border=\"1\" class=\"dataframe\">\n",
       "  <thead>\n",
       "    <tr style=\"text-align: right;\">\n",
       "      <th></th>\n",
       "      <th>flowid_txdot</th>\n",
       "      <th>year</th>\n",
       "      <th>hour</th>\n",
       "      <th>count</th>\n",
       "      <th>Mode</th>\n",
       "      <th>direction</th>\n",
       "      <th>station_id</th>\n",
       "    </tr>\n",
       "  </thead>\n",
       "  <tbody>\n",
       "    <tr>\n",
       "      <th>0</th>\n",
       "      <td>AL0001-EB-Bic</td>\n",
       "      <td>2017</td>\n",
       "      <td>0</td>\n",
       "      <td>0.026316</td>\n",
       "      <td>Bic</td>\n",
       "      <td>EB</td>\n",
       "      <td>AL0001</td>\n",
       "    </tr>\n",
       "    <tr>\n",
       "      <th>1</th>\n",
       "      <td>AL0001-EB-Bic</td>\n",
       "      <td>2017</td>\n",
       "      <td>1</td>\n",
       "      <td>0.013072</td>\n",
       "      <td>Bic</td>\n",
       "      <td>EB</td>\n",
       "      <td>AL0001</td>\n",
       "    </tr>\n",
       "    <tr>\n",
       "      <th>2</th>\n",
       "      <td>AL0001-EB-Bic</td>\n",
       "      <td>2017</td>\n",
       "      <td>2</td>\n",
       "      <td>0.006536</td>\n",
       "      <td>Bic</td>\n",
       "      <td>EB</td>\n",
       "      <td>AL0001</td>\n",
       "    </tr>\n",
       "    <tr>\n",
       "      <th>3</th>\n",
       "      <td>AL0001-EB-Bic</td>\n",
       "      <td>2017</td>\n",
       "      <td>3</td>\n",
       "      <td>0.117647</td>\n",
       "      <td>Bic</td>\n",
       "      <td>EB</td>\n",
       "      <td>AL0001</td>\n",
       "    </tr>\n",
       "    <tr>\n",
       "      <th>4</th>\n",
       "      <td>AL0001-EB-Bic</td>\n",
       "      <td>2017</td>\n",
       "      <td>4</td>\n",
       "      <td>0.006579</td>\n",
       "      <td>Bic</td>\n",
       "      <td>EB</td>\n",
       "      <td>AL0001</td>\n",
       "    </tr>\n",
       "    <tr>\n",
       "      <th>...</th>\n",
       "      <td>...</td>\n",
       "      <td>...</td>\n",
       "      <td>...</td>\n",
       "      <td>...</td>\n",
       "      <td>...</td>\n",
       "      <td>...</td>\n",
       "      <td>...</td>\n",
       "    </tr>\n",
       "    <tr>\n",
       "      <th>76890</th>\n",
       "      <td>WL0004-ALL-Ant</td>\n",
       "      <td>2022</td>\n",
       "      <td>16</td>\n",
       "      <td>1.000000</td>\n",
       "      <td>Ant</td>\n",
       "      <td>ALL</td>\n",
       "      <td>WL0004</td>\n",
       "    </tr>\n",
       "    <tr>\n",
       "      <th>76891</th>\n",
       "      <td>WL0004-ALL-Ant</td>\n",
       "      <td>2022</td>\n",
       "      <td>17</td>\n",
       "      <td>1.000000</td>\n",
       "      <td>Ant</td>\n",
       "      <td>ALL</td>\n",
       "      <td>WL0004</td>\n",
       "    </tr>\n",
       "    <tr>\n",
       "      <th>76892</th>\n",
       "      <td>WL0004-ALL-Ant</td>\n",
       "      <td>2022</td>\n",
       "      <td>18</td>\n",
       "      <td>1.250000</td>\n",
       "      <td>Ant</td>\n",
       "      <td>ALL</td>\n",
       "      <td>WL0004</td>\n",
       "    </tr>\n",
       "    <tr>\n",
       "      <th>76893</th>\n",
       "      <td>WL0004-ALL-Ant</td>\n",
       "      <td>2022</td>\n",
       "      <td>19</td>\n",
       "      <td>1.600000</td>\n",
       "      <td>Ant</td>\n",
       "      <td>ALL</td>\n",
       "      <td>WL0004</td>\n",
       "    </tr>\n",
       "    <tr>\n",
       "      <th>76894</th>\n",
       "      <td>WL0004-ALL-Ant</td>\n",
       "      <td>2022</td>\n",
       "      <td>20</td>\n",
       "      <td>1.000000</td>\n",
       "      <td>Ant</td>\n",
       "      <td>ALL</td>\n",
       "      <td>WL0004</td>\n",
       "    </tr>\n",
       "  </tbody>\n",
       "</table>\n",
       "<p>76895 rows × 7 columns</p>\n",
       "</div>"
      ],
      "text/plain": [
       "         flowid_txdot  year  hour     count Mode direction station_id\n",
       "0       AL0001-EB-Bic  2017     0  0.026316  Bic        EB     AL0001\n",
       "1       AL0001-EB-Bic  2017     1  0.013072  Bic        EB     AL0001\n",
       "2       AL0001-EB-Bic  2017     2  0.006536  Bic        EB     AL0001\n",
       "3       AL0001-EB-Bic  2017     3  0.117647  Bic        EB     AL0001\n",
       "4       AL0001-EB-Bic  2017     4  0.006579  Bic        EB     AL0001\n",
       "...               ...   ...   ...       ...  ...       ...        ...\n",
       "76890  WL0004-ALL-Ant  2022    16  1.000000  Ant       ALL     WL0004\n",
       "76891  WL0004-ALL-Ant  2022    17  1.000000  Ant       ALL     WL0004\n",
       "76892  WL0004-ALL-Ant  2022    18  1.250000  Ant       ALL     WL0004\n",
       "76893  WL0004-ALL-Ant  2022    19  1.600000  Ant       ALL     WL0004\n",
       "76894  WL0004-ALL-Ant  2022    20  1.000000  Ant       ALL     WL0004\n",
       "\n",
       "[76895 rows x 7 columns]"
      ]
     },
     "execution_count": 8,
     "metadata": {},
     "output_type": "execute_result"
    }
   ],
   "source": [
    "raw_data_"
   ]
  },
  {
   "cell_type": "code",
   "execution_count": 14,
   "metadata": {},
   "outputs": [
    {
     "data": {
      "text/plain": [
       "632"
      ]
     },
     "execution_count": 14,
     "metadata": {},
     "output_type": "execute_result"
    }
   ],
   "source": [
    "df_stations.stationid.isin(raw_data_.station_id).sum()"
   ]
  },
  {
   "attachments": {},
   "cell_type": "markdown",
   "metadata": {},
   "source": [
    "### Count data with respect to day of week"
   ]
  },
  {
   "cell_type": "code",
   "execution_count": null,
   "metadata": {},
   "outputs": [],
   "source": [
    "### Working on day of week data\n",
    "raw_data['date'] = pd.to_datetime(raw_data['date'])\n",
    "raw_data_day = raw_data.groupby(['flowid_txdot','date'], as_index=False).agg({'count_int': 'sum', 'count': 'sum'})\n",
    "raw_data_day['day'] = raw_data_day['date'].dt.day_name()\n",
    "raw_data_day['year'] = raw_data_day['date'].dt.year"
   ]
  },
  {
   "cell_type": "code",
   "execution_count": null,
   "metadata": {},
   "outputs": [],
   "source": [
    "raw_data_day=raw_data_day[raw_data_day.count_int>=1200] #This is a criteria which sets a threshold that each days data must have at least 20hr count interval (count_int)\n",
    "raw_data_day"
   ]
  },
  {
   "cell_type": "code",
   "execution_count": null,
   "metadata": {},
   "outputs": [],
   "source": [
    "raw_data_day.flowid_txdot.str[-3:].unique()"
   ]
  },
  {
   "cell_type": "code",
   "execution_count": null,
   "metadata": {},
   "outputs": [],
   "source": [
    "raw_data_day['Mode']=raw_data_day.flowid_txdot.str[-3:]\n"
   ]
  },
  {
   "cell_type": "code",
   "execution_count": null,
   "metadata": {},
   "outputs": [],
   "source": [
    "raw_data_day.Mode=raw_data_day.Mode.replace({\"BIc\":\"Bic\"})"
   ]
  },
  {
   "cell_type": "code",
   "execution_count": null,
   "metadata": {},
   "outputs": [],
   "source": [
    "av=lambda x: np.average(x)\n",
    "f={\n",
    "    'count': av,\n",
    "    }\n",
    "raw_data_day1 = raw_data_day.groupby(['year','Mode','day'],as_index=False).agg(f)"
   ]
  },
  {
   "cell_type": "code",
   "execution_count": null,
   "metadata": {},
   "outputs": [],
   "source": [
    "raw_data_day1.to_csv(\"Data/Temp/raw_data_dayofweek.csv\", index=False)"
   ]
  },
  {
   "cell_type": "markdown",
   "metadata": {},
   "source": [
    "### Preparation for joining demographic data"
   ]
  },
  {
   "cell_type": "code",
   "execution_count": 57,
   "metadata": {},
   "outputs": [],
   "source": [
    "df_stations=pd.read_excel(\"Data/FullSUPIdentifiedData.xlsx\", sheet_name=\"SUPData\")"
   ]
  },
  {
   "cell_type": "markdown",
   "metadata": {},
   "source": [
    "projection is done on a Lambert Conformal Conic by NAD 1983 StatePlane Texas Central. CRS EPSG: 2277"
   ]
  },
  {
   "cell_type": "code",
   "execution_count": 58,
   "metadata": {},
   "outputs": [],
   "source": [
    "gdf_stations=gpd.GeoDataFrame(df_stations, geometry=gpd.points_from_xy(df_stations.Longitude, df_stations.Latitude), crs='EPSG:4326')\n",
    "gdf_stations=gdf_stations.to_crs(\"EPSG:2277\")"
   ]
  },
  {
   "cell_type": "code",
   "execution_count": 143,
   "metadata": {},
   "outputs": [],
   "source": [
    "def Trim_the_dataset(df):\n",
    "    #df=dem20.copy(deep=True)\n",
    "    columns_to_exclude = [\n",
    "    'FIPS', 'Geographic Identifier', 'Name of Area', 'Qualifying Name', 'State/U.S.-Abbreviation (USPS)', 'Summary Level', 'Geographic Component', 'File Identification', 'Logical Record Number', 'US', 'Region', 'Division', 'State (Census Code)', 'State (FIPS)', 'County', 'County Subdivision (FIPS)', 'Place (FIPS Code)', 'Place (State FIPS + Place FIPS)', 'Census Tract', 'Block Group', 'Consolidated City'\n",
    "]\n",
    "\n",
    "    # Loop through all columns and convert to float if not in columns_to_exclude\n",
    "    for column in df.columns:\n",
    "        if column not in columns_to_exclude:\n",
    "            df[column] = pd.to_numeric(df[column], errors='coerce', downcast='float')\n",
    "\n",
    "    df['Male_5_14']=df['Total Population: Male: 5 to 9 Years'] + df['Total Population: Male: 10 to 14 Years']\n",
    "    df['Male_15_24']=df['Total Population: Male: 15 to 17 Years'] + df['Total Population: Male: 18 to 24 Years']\n",
    "    df['Male_35_54']=df['Total Population: Male: 35 to 44 Years']+df['Total Population: Male: 45 to 54 Years']\n",
    "    df['Male_65_over']=df['Total Population: Male: 65 to 74 Years']+df['Total Population: Male: 75 to 84 Years']+df['Total Population: Male: 85 Years and Over']\n",
    "    df['Female_5_14']=df['Total Population: Female: 5 to 9 Years'] + df['Total Population: Female: 10 to 14 Years']\n",
    "    df['Female_15_24']=df['Total Population: Female: 15 to 17 Years'] + df['Total Population: Female: 18 to 24 Years']\n",
    "    df['Female_35_54']=df['Total Population: Female: 35 to 44 Years']+df['Total Population: Female: 45 to 54 Years']\n",
    "    df['Female_65_over']=df['Total Population: Female: 65 to 74 Years']+df['Total Population: Female: 75 to 84 Years']+df['Total Population: Female: 85 Years and Over']\n",
    "    df['Edu_Bachelor_more']=df[\"Population 25 Years and Over: Bachelor's Degree\"]+df[\"Population 25 Years and Over: Master's Degree\"]+df['Population 25 Years and Over: Professional School Degree']+df['Population 25 Years and Over: Doctorate Degree']\n",
    "    df['HHI_less_35']=df['Households: Less than $10,000'] + df['Households: $10,000 to $14,999'] + df['Households: $15,000 to $19,999'] + df['Households: $20,000 to $24,999'] + df['Households: $25,000 to $29,999'] + df['Households: $30,000 to $34,999']\n",
    "    df['HHI_35_45']=df['Households: $35,000 to $39,999'] + df['Households: $40,000 to $44,999']\n",
    "    df['HHI_45_60']=df['Households: $45,000 to $49,999'] + df['Households: $50,000 to $59,999']\n",
    "    df['HHI_60_100']=df['Households: $60,000 to $74,999'] = df['Households: $75,000 to $99,999']\n",
    "    df['HHI_100_150']=df['Households: $100,000 to $124,999'] + df['Households: $125,000 to $149,999']\n",
    "    df['HHI_150_more']=df['Households: $150,000 to $199,999'] + df['Households: $200,000 or More']\n",
    "\n",
    "    df2 = df.rename(columns = {'Total Population' :'TotPop','Population Density (Per Sq. Mile)':'Pop_Density','Total Population: Male':'TotPopMale','Total Population: Female':'TotPopFemale','Total Population: Male: 25 to 34 Years':'Male_25_34','Total Population: Male: 55 to 64 Years':'Male_55_64','Total Population: Female: 25 to 34 Years':'Female_25_34','Total Population: Female: 55 to 64 Years':'Female_55_64','Total Population: White Alone':'Pop_Race_White','Total Population: Black or African American Alone':'Pop_Race_Black','Total Population: Asian Alone':'Pop_Race_Asian','Total Population: American Indian and Alaska Native Alone':'Pop_Race_Native','Total Population: Two or More Races':'Pop_Race_Two','Households:':'House','Households: Family Households':'House_Family'})\n",
    "    df2=df2.loc[:,['FIPS',\"Area\",\n",
    "        'TotPop','TotPopMale','TotPopFemale',\n",
    "        'Male_5_14','Male_15_24','Male_25_34','Male_35_54','Male_55_64','Male_65_over',\n",
    "        'Female_5_14','Female_15_24','Female_25_34','Female_35_54','Female_55_64','Female_65_over',\n",
    "        'Pop_Race_White','Pop_Race_Black','Pop_Race_Asian','Pop_Race_Native','Pop_Race_Two',\n",
    "        'House','House_Family', 'Edu_Bachelor_more',\n",
    "        'HHI_less_35','HHI_35_45','HHI_45_60','HHI_60_100','HHI_100_150','HHI_150_more','Income']]\n",
    "    #Normalizing\n",
    "    # all except the income is normalized as income is already per capita\n",
    "    #Area is used to normalize, whose unit is: \n",
    "    df2.iloc[:,2:31]= df2.iloc[:,2:31].astype(float).div(df2['Area'].astype(float), axis=0)\n",
    "    return(df2)\n",
    "#There doesnot seem to be a variable \"Area\" so no point in looking into density. Check if density is correctly being calculated."
   ]
  },
  {
   "cell_type": "code",
   "execution_count": 144,
   "metadata": {},
   "outputs": [],
   "source": [
    "#Texas block group 2021\n",
    "shp_tx=gpd.read_file('Data/tl_2021_48_bg', crs=\"EPSG:4326\")\n",
    "shp_tx.to_crs(epsg=2277, inplace=True)\n",
    "shp_tx.set_index(shp_tx.GEOID.astype(float),drop=True,inplace=True)\n",
    "shp_tx=shp_tx.loc[:,[\"geometry\"]]\n",
    "#Texas block group 2017\n",
    "shp_tx17=gpd.read_file('Data/tl_2017_48_bg', crs=\"EPSG:4326\")\n",
    "shp_tx17.to_crs(epsg=2277, inplace=True)\n",
    "shp_tx17.set_index(shp_tx17.GEOID.astype(float),drop=True,inplace=True)\n",
    "shp_tx17=shp_tx17.loc[:,[\"geometry\"]]\n",
    "#Texas block group 2018\n",
    "shp_tx18=gpd.read_file('Data/tl_2018_48_bg', crs=\"EPSG:4326\")\n",
    "shp_tx18.to_crs(epsg=2277, inplace=True)\n",
    "shp_tx18.set_index(shp_tx18.GEOID.astype(float),drop=True,inplace=True)\n",
    "shp_tx18=shp_tx18.loc[:,[\"geometry\"]]\n",
    "#Texas block group 2019\n",
    "shp_tx19=gpd.read_file('Data/tl_2019_48_bg', crs=\"EPSG:4326\")\n",
    "shp_tx19.to_crs(epsg=2277, inplace=True)\n",
    "shp_tx19.set_index(shp_tx19.GEOID.astype(float),drop=True,inplace=True)\n",
    "shp_tx19=shp_tx19.loc[:,[\"geometry\"]]\n",
    "\n",
    "#demographic file\n",
    "dem15=pd.read_csv('Data/demographic_data/socialexplorer_/ACS_2015.csv').drop([0])\n",
    "dem15 = dem15.rename(columns = {'Area Total:' :'Area','Per Capita Income (In 2015 Inflation Adjusted Dollars)':'Income'})\n",
    "dem16=pd.read_csv('Data/demographic_data/socialexplorer_/ACS_2016.csv').drop([0])\n",
    "dem16 = dem16.rename(columns = {'Area Total:' :'Area','Per Capita Income (In 2016 Inflation Adjusted Dollars)':'Income'})\n",
    "dem17=pd.read_csv('Data/demographic_data/socialexplorer_/ACS_2017.csv').drop([0])\n",
    "dem17 = dem17.rename(columns = {'Area Total:' :'Area','Per Capita Income (In 2017 Inflation Adjusted Dollars)':'Income'})\n",
    "dem18=pd.read_csv('Data/demographic_data/socialexplorer_/ACS_2018.csv').drop([0])\n",
    "dem18 = dem18.rename(columns = {'Area Total:' :'Area','Per Capita Income (In 2018 Inflation Adjusted Dollars)':'Income'})\n",
    "dem19=pd.read_csv('Data/demographic_data/socialexplorer_/ACS_2019.csv').drop([0])\n",
    "dem19 = dem19.rename(columns = {'Area Total:' :'Area','Per Capita Income (In 2019 Inflation Adjusted Dollars)':'Income'})\n",
    "dem20=pd.read_csv('Data/demographic_data/socialexplorer_/ACS_2020.csv').drop([0])\n",
    "dem20 = dem20.rename(columns = {'Area Total:' :'Area','Per Capita Income (In 2020 Inflation Adjusted Dollars)':'Income'})\n",
    "dem21=pd.read_csv('Data/demographic_data/socialexplorer_/ACS_2021.csv').drop([0])\n",
    "dem21 = dem21.rename(columns = {'Area Total:' :'Area','Per Capita Income (In 2021 Inflation Adjusted Dollars)':'Income'})\n",
    "#only selected columns\n",
    "dem15=Trim_the_dataset(dem15)\n",
    "dem16=Trim_the_dataset(dem16)\n",
    "dem17=Trim_the_dataset(dem17)\n",
    "dem18=Trim_the_dataset(dem18)\n",
    "dem19=Trim_the_dataset(dem19)\n",
    "dem20=Trim_the_dataset(dem20)\n",
    "dem21=Trim_the_dataset(dem21)\n",
    "\n",
    "\n",
    "#setting FIPS as index\n",
    "dem15.set_index(dem15.FIPS,drop=True,inplace=True)\n",
    "dem15.index=dem15.index.astype(float)\n",
    "dem16.set_index(dem16.FIPS,drop=True,inplace=True)\n",
    "dem16.index=dem16.index.astype(float)\n",
    "dem17.set_index(dem17.FIPS,drop=True,inplace=True)\n",
    "dem17.index=dem17.index.astype(float)\n",
    "dem18.set_index(dem18.FIPS,drop=True,inplace=True)\n",
    "dem18.index=dem18.index.astype(float)\n",
    "dem19.set_index(dem19.FIPS,drop=True,inplace=True)\n",
    "dem19.index=dem19.index.astype(float)\n",
    "dem20.set_index(dem20.FIPS,drop=True,inplace=True)\n",
    "dem20.index=dem20.index.astype(float)\n",
    "dem21.set_index(dem21.FIPS,drop=True,inplace=True)\n",
    "dem21.index=dem21.index.astype(float)\n",
    "\n",
    "#Joining socio-demographic data to census block group\n",
    "shp_dem15=pd.concat([dem15,shp_tx17],axis=1, join=\"inner\") \n",
    "shp_dem16=pd.concat([dem16,shp_tx17],axis=1, join=\"inner\") \n",
    "shp_dem17=pd.concat([dem17,shp_tx17],axis=1, join=\"inner\") \n",
    "shp_dem18=pd.concat([dem18,shp_tx18],axis=1, join=\"inner\") \n",
    "shp_dem19=pd.concat([dem19,shp_tx19],axis=1, join=\"inner\") \n",
    "shp_dem20=pd.concat([dem20,shp_tx],axis=1, join=\"inner\") \n",
    "shp_dem21=pd.concat([dem21,shp_tx],axis=1, join=\"inner\") \n",
    "gdf_dem15=gpd.GeoDataFrame(shp_dem15, geometry=shp_dem15.geometry, crs=\"EPSG:2277\")\n",
    "gdf_dem16=gpd.GeoDataFrame(shp_dem16, geometry=shp_dem16.geometry, crs=\"EPSG:2277\")\n",
    "gdf_dem17=gpd.GeoDataFrame(shp_dem17, geometry=shp_dem17.geometry, crs=\"EPSG:2277\")\n",
    "gdf_dem18=gpd.GeoDataFrame(shp_dem18, geometry=shp_dem18.geometry, crs=\"EPSG:2277\")\n",
    "gdf_dem19=gpd.GeoDataFrame(shp_dem19, geometry=shp_dem19.geometry, crs=\"EPSG:2277\")\n",
    "gdf_dem20=gpd.GeoDataFrame(shp_dem20, geometry=shp_dem20.geometry, crs=\"EPSG:2277\")\n",
    "gdf_dem21=gpd.GeoDataFrame(shp_dem21, geometry=shp_dem21.geometry, crs=\"EPSG:2277\")"
   ]
  },
  {
   "cell_type": "code",
   "execution_count": 145,
   "metadata": {},
   "outputs": [],
   "source": [
    "\n",
    "#to get the sum\n",
    "gdf_dem15[\"area_bg\"]=gdf_dem15.geometry.area\n",
    "gdf_dem16[\"area_bg\"]=gdf_dem16.geometry.area\n",
    "gdf_dem17[\"area_bg\"]=gdf_dem17.geometry.area\n",
    "gdf_dem18[\"area_bg\"]=gdf_dem18.geometry.area\n",
    "gdf_dem19[\"area_bg\"]=gdf_dem19.geometry.area\n",
    "gdf_dem20[\"area_bg\"]=gdf_dem20.geometry.area\n",
    "gdf_dem21[\"area_bg\"]=gdf_dem21.geometry.area"
   ]
  },
  {
   "attachments": {},
   "cell_type": "markdown",
   "metadata": {},
   "source": [
    "Different buffers are manually added and seperate datasets are created for each buffer type"
   ]
  },
  {
   "cell_type": "code",
   "execution_count": 154,
   "metadata": {},
   "outputs": [],
   "source": [
    "\n",
    "#Buffer\n",
    "stations_buffer=gdf_stations.copy(deep=True)\n",
    "stations_buffer.geometry=stations_buffer.geometry.buffer(1320) #5280ft ~ 1mile, #2640ft ~ 0.5miles, #1320ft ~ 0.25miles\n",
    "stations_buffer['indexx']=stations_buffer.index"
   ]
  },
  {
   "cell_type": "code",
   "execution_count": 155,
   "metadata": {},
   "outputs": [],
   "source": [
    "inter15 = gpd.overlay(gdf_dem15,stations_buffer, how='intersection')\n",
    "inter16 = gpd.overlay(gdf_dem16,stations_buffer, how='intersection')\n",
    "inter17 = gpd.overlay(gdf_dem17,stations_buffer, how='intersection')\n",
    "inter18 = gpd.overlay(gdf_dem18,stations_buffer, how='intersection')\n",
    "inter19 = gpd.overlay(gdf_dem19,stations_buffer, how='intersection')\n",
    "inter20 = gpd.overlay(gdf_dem20,stations_buffer, how='intersection')\n",
    "inter21 = gpd.overlay(gdf_dem21,stations_buffer, how='intersection')\n",
    "inter15[\"area\"] = inter15['geometry'].area\n",
    "inter16[\"area\"] = inter16['geometry'].area\n",
    "inter17[\"area\"] = inter17['geometry'].area\n",
    "inter18[\"area\"] = inter18['geometry'].area\n",
    "inter19[\"area\"] = inter19['geometry'].area\n",
    "inter20[\"area\"] = inter20['geometry'].area\n",
    "inter21[\"area\"] = inter21['geometry'].area"
   ]
  },
  {
   "cell_type": "code",
   "execution_count": 156,
   "metadata": {},
   "outputs": [],
   "source": [
    "#The function aggregates the demographic data with respect to indexx. The value in indexx column is unique for each station location buffer.\n",
    "def get_buffer_demographic(inter):\n",
    "   #ws finction is used to calculate the weighted average of all variables for each location\n",
    "    ws= lambda x: round(np.sum(x*(inter.loc[x.index, \"area\"])/(inter.loc[x.index, \"area_bg\"])),5)\n",
    "    #The variable data type is changed to float before executing ws function\n",
    "    dict_columns_type = {\n",
    "        'TotPop':float,'Income':float,'TotPopMale':float,'TotPopFemale':float,\n",
    "        'Male_5_14':float,'Male_15_24':float,'Male_25_34':float,'Male_35_54':float,'Male_55_64':float,'Male_65_over':float,\n",
    "        'Female_5_14':float,'Female_15_24':float,'Female_25_34':float,'Female_35_54':float,'Female_55_64':float,'Female_65_over':float,\n",
    "        'Pop_Race_White':float,'Pop_Race_Black':float,'Pop_Race_Asian':float,'Pop_Race_Native':float,'Pop_Race_Two':float,\n",
    "        'House':float,'House_Family':float, 'Edu_Bachelor_more':float,\n",
    "        'HHI_less_35':float,'HHI_35_45':float,'HHI_45_60':float,'HHI_60_100':float,'HHI_100_150':float,'HHI_150_more':float\n",
    "        }\n",
    "    inter = inter.astype(dict_columns_type)\n",
    "    f = {\n",
    "        'TotPop':ws,\n",
    "        'TotPopMale':ws,\n",
    "        'TotPopFemale':ws,\n",
    "        'Male_5_14':ws,\n",
    "        'Male_15_24':ws,\n",
    "        'Male_25_34':ws,\n",
    "        'Male_35_54':ws,\n",
    "        'Male_55_64':ws,\n",
    "        'Male_65_over':ws,\n",
    "        'Female_5_14':ws,\n",
    "        'Female_15_24':ws,\n",
    "        'Female_25_34':ws,\n",
    "        'Female_35_54':ws,\n",
    "        'Female_55_64':ws,\n",
    "        'Female_65_over':ws,\n",
    "        'Pop_Race_White':ws,\n",
    "        'Pop_Race_Black':ws,\n",
    "        'Pop_Race_Asian':ws,\n",
    "        'Pop_Race_Native':ws,\n",
    "        'Pop_Race_Two':ws,\n",
    "        'House':ws,\n",
    "        'House_Family':ws, \n",
    "        'Edu_Bachelor_more':ws,\n",
    "        'HHI_less_35':ws,\n",
    "        'HHI_35_45':ws,\n",
    "        'HHI_45_60':ws,\n",
    "        'HHI_60_100':ws,\n",
    "        'HHI_100_150':ws,\n",
    "        'HHI_150_more':ws,\n",
    "        'Income':ws,\n",
    "        }\n",
    "\n",
    "    newdf=inter.groupby(\"indexx\").agg(f)\n",
    "    return newdf"
   ]
  },
  {
   "cell_type": "code",
   "execution_count": 157,
   "metadata": {},
   "outputs": [],
   "source": [
    "#The get_buffer_demographic function is executed for each year and the variables are named accordingly.\n",
    "newdf=get_buffer_demographic(inter15)\n",
    "newdf.columns += '_025mile_15' #The buffer size name is changed manually with respect to the buffer size used.\n",
    "DF=pd.concat([newdf,stations_buffer],axis=1)\n",
    "newdf=get_buffer_demographic(inter16)\n",
    "newdf.columns += '_025mile_16'\n",
    "DF=pd.concat([newdf,DF],axis=1)\n",
    "newdf=get_buffer_demographic(inter17)\n",
    "newdf.columns += '_025mile_17'\n",
    "DF=pd.concat([newdf,DF],axis=1)\n",
    "newdf=get_buffer_demographic(inter18)\n",
    "newdf.columns += '_025mile_18'\n",
    "DF=pd.concat([newdf,DF],axis=1)\n",
    "newdf=get_buffer_demographic(inter19)\n",
    "newdf.columns += '_025mile_19'\n",
    "DF=pd.concat([newdf,DF],axis=1)\n",
    "newdf=get_buffer_demographic(inter20)\n",
    "newdf.columns += '_025mile_20'\n",
    "DF=pd.concat([newdf,DF],axis=1)\n",
    "newdf=get_buffer_demographic(inter21)\n",
    "newdf.columns += '_025mile_21'\n",
    "DF=pd.concat([newdf,DF],axis=1)\n",
    "#Saving the data\n",
    "DF.to_csv('Data/Temp/FULL_station_and_demographic_025mile.csv', index=False)"
   ]
  },
  {
   "attachments": {},
   "cell_type": "markdown",
   "metadata": {},
   "source": [
    "#### Visualizing"
   ]
  },
  {
   "cell_type": "code",
   "execution_count": null,
   "metadata": {},
   "outputs": [
    {
     "data": {
      "image/png": "[encoded data removed]",
      "text/plain": [
       "<Figure size 1000x1200 with 1 Axes>"
      ]
     },
     "metadata": {},
     "output_type": "display_data"
    }
   ],
   "source": [
    "from matplotlib.patches import Patch\n",
    "\n",
    "# Plot for report\n",
    "stations_buffer_one = gdf_stations.copy()\n",
    "stations_buffer_half = gdf_stations.copy()\n",
    "stations_buffer_quar = gdf_stations.copy()\n",
    "stations_buffer_one.geometry = gdf_stations.geometry.buffer(5280)\n",
    "stations_buffer_half.geometry = gdf_stations.geometry.buffer(2640)\n",
    "stations_buffer_quar.geometry = gdf_stations.geometry.buffer(1320)\n",
    "fig, ax1 = plt.subplots(figsize=(10, 12)) # Set the figure size\n",
    "shp_tx.plot(ax=ax1, color='lightgrey', edgecolor=\"white\")\n",
    "stations_buffer_one.plot(ax=ax1, color=\"#800000\", alpha=0.7)\n",
    "stations_buffer_half.plot(ax=ax1, color='yellow', alpha=0.7)\n",
    "stations_buffer_quar.plot(ax=ax1, color='#b03060')\n",
    "plt.ylim((10028000,10057000))\n",
    "plt.xlim((3009000,3050000))\n",
    "# Create legend\n",
    "legend_elements = [   Patch(facecolor='lightgrey', edgecolor='black', label='Block Group'),    \n",
    "                   Patch(facecolor=\"#800000\", edgecolor='black', label='Buffer of 1 mile radius'),    \n",
    "                   Patch(facecolor='yellow', edgecolor='black', label='Buffer of 0.5 miles radius'),    \n",
    "                   Patch(facecolor='#b03060', edgecolor='black', label='Buffer of 0.25 miles radius')\n",
    "                   ]\n",
    "plt.legend(handles=legend_elements, title='', loc='lower right')\n",
    "ax1.set_xticks([]) # Use set_xticks on the Axes object, not on plt\n",
    "ax1.set_yticks([]) # Use set_yticks on the Axes object, not on plt\n",
    "plt.show()\n"
   ]
  }
 ],
 "metadata": {
  "kernelspec": {
   "display_name": "Python 3 (ipykernel)",
   "language": "python",
   "name": "python3"
  },
  "language_info": {
   "codemirror_mode": {
    "name": "ipython",
    "version": 3
   },
   "file_extension": ".py",
   "mimetype": "text/x-python",
   "name": "python",
   "nbconvert_exporter": "python",
   "pygments_lexer": "ipython3",
   "version": "3.10.9"
  },
  "vscode": {
   "interpreter": {
    "hash": "2b53270c4e50afbf33628a12059691a33f1558a8e427dc048f15f23fd121ba86"
   }
  }
 },
 "nbformat": 4,
 "nbformat_minor": 2
}
