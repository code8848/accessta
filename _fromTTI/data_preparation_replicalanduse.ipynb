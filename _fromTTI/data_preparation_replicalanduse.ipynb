{
 "cells": [
  {
   "cell_type": "code",
   "execution_count": 1,
   "metadata": {},
   "outputs": [
    {
     "name": "stdout",
     "output_type": "stream",
     "text": [
      "l\n"
     ]
    }
   ],
   "source": [
    "print('l')"
   ]
  },
  {
   "cell_type": "code",
   "execution_count": 2,
   "metadata": {},
   "outputs": [],
   "source": [
    "import pandas as pd\n",
    "import os\n",
    "import numpy as np\n",
    "import geopandas as gpd\n",
    "import matplotlib.pyplot as plt\n",
    "import seaborn as sns\n",
    "import osmnx as ox\n",
    "import os\n",
    "\n",
    "import warnings\n",
    "warnings.filterwarnings(\"ignore\")"
   ]
  },
  {
   "cell_type": "code",
   "execution_count": 3,
   "metadata": {},
   "outputs": [],
   "source": [
    "df_al=pd.read_csv(\"C:/Users/P-Koirala/OneDrive - Texas A&M Transportation Institute/Desktop/Data/SUP/#RAW/Data/All_Stations_Demographic.csv\")"
   ]
  },
  {
   "cell_type": "code",
   "execution_count": 7,
   "metadata": {},
   "outputs": [],
   "source": [
    "df_al=pd.read_excel(\"C:/Users/P-Koirala/OneDrive - Texas A&M Transportation Institute/Desktop/Data/SUP/#RAW/Data/FullSUPIdentifiedData.xlsx\")"
   ]
  },
  {
   "cell_type": "code",
   "execution_count": 8,
   "metadata": {},
   "outputs": [],
   "source": [
    "df_all=df_al[['stationid', 'Latitude', 'Longitude']]\n",
    "df_all=df_all.drop_duplicates(subset=['stationid'], keep='first')\n",
    "df_all.reset_index(drop=True, inplace=True)"
   ]
  },
  {
   "cell_type": "code",
   "execution_count": 9,
   "metadata": {},
   "outputs": [],
   "source": [
    "gdf_all=gpd.GeoDataFrame(df_all, geometry=gpd.points_from_xy(df_all.Longitude, df_all.Latitude), crs='EPSG:4326')\n",
    "gdf_all.to_crs(epsg=2277, inplace=True)"
   ]
  },
  {
   "cell_type": "markdown",
   "metadata": {},
   "source": [
    "Landuse"
   ]
  },
  {
   "cell_type": "markdown",
   "metadata": {},
   "source": [
    "### Preparation"
   ]
  },
  {
   "cell_type": "markdown",
   "metadata": {},
   "source": [
    "#### Joining incomplete data"
   ]
  },
  {
   "cell_type": "code",
   "execution_count": 4,
   "metadata": {},
   "outputs": [],
   "source": [
    "replica=gpd.read_file(\"C:/Users/P-Koirala/OneDrive - Texas A&M Transportation Institute/Desktop/Data/SUP/#RAW/Data/Replica data (land use)/Replica Texas Land Use Data/land-use_2021-Q4_Texas_created-2023-02-18/land-use_2021-Q4_Texas_created-2023-02-18.shp\",\n",
    "crs=\"EPSG:4326\")\n",
    "replica.to_crs(epsg=2277, inplace=True)"
   ]
  },
  {
   "cell_type": "code",
   "execution_count": null,
   "metadata": {},
   "outputs": [
    {
     "data": {
      "text/plain": [
       "Index(['stationid', 'Latitude', 'Longitude', 'geometry'], dtype='object')"
      ]
     },
     "execution_count": 62,
     "metadata": {},
     "output_type": "execute_result"
    }
   ],
   "source": [
    "gdf_all.columns"
   ]
  },
  {
   "cell_type": "code",
   "execution_count": null,
   "metadata": {},
   "outputs": [
    {
     "data": {
      "text/html": [
       "<div>\n",
       "<style scoped>\n",
       "    .dataframe tbody tr th:only-of-type {\n",
       "        vertical-align: middle;\n",
       "    }\n",
       "\n",
       "    .dataframe tbody tr th {\n",
       "        vertical-align: top;\n",
       "    }\n",
       "\n",
       "    .dataframe thead th {\n",
       "        text-align: right;\n",
       "    }\n",
       "</style>\n",
       "<table border=\"1\" class=\"dataframe\">\n",
       "  <thead>\n",
       "    <tr style=\"text-align: right;\">\n",
       "      <th></th>\n",
       "      <th>stationid</th>\n",
       "      <th>Latitude</th>\n",
       "      <th>Longitude</th>\n",
       "      <th>geometry</th>\n",
       "    </tr>\n",
       "  </thead>\n",
       "  <tbody>\n",
       "    <tr>\n",
       "      <th>0</th>\n",
       "      <td>MR0001</td>\n",
       "      <td>30.343975</td>\n",
       "      <td>-97.579744</td>\n",
       "      <td>POINT (3165091.572 10099589.793)</td>\n",
       "    </tr>\n",
       "    <tr>\n",
       "      <th>1</th>\n",
       "      <td>AU0116</td>\n",
       "      <td>30.410493</td>\n",
       "      <td>-97.711836</td>\n",
       "      <td>POINT (3122866.401 10122768.312)</td>\n",
       "    </tr>\n",
       "    <tr>\n",
       "      <th>2</th>\n",
       "      <td>AU0115</td>\n",
       "      <td>30.410030</td>\n",
       "      <td>-97.712725</td>\n",
       "      <td>POINT (3122590.214 10122593.372)</td>\n",
       "    </tr>\n",
       "    <tr>\n",
       "      <th>3</th>\n",
       "      <td>AU0114</td>\n",
       "      <td>30.405223</td>\n",
       "      <td>-97.725768</td>\n",
       "      <td>POINT (3118520.869 10120749.033)</td>\n",
       "    </tr>\n",
       "    <tr>\n",
       "      <th>4</th>\n",
       "      <td>AU0113</td>\n",
       "      <td>30.405455</td>\n",
       "      <td>-97.725944</td>\n",
       "      <td>POINT (3118463.424 10120832.085)</td>\n",
       "    </tr>\n",
       "  </tbody>\n",
       "</table>\n",
       "</div>"
      ],
      "text/plain": [
       "  stationid   Latitude  Longitude                          geometry\n",
       "0    MR0001  30.343975 -97.579744  POINT (3165091.572 10099589.793)\n",
       "1    AU0116  30.410493 -97.711836  POINT (3122866.401 10122768.312)\n",
       "2    AU0115  30.410030 -97.712725  POINT (3122590.214 10122593.372)\n",
       "3    AU0114  30.405223 -97.725768  POINT (3118520.869 10120749.033)\n",
       "4    AU0113  30.405455 -97.725944  POINT (3118463.424 10120832.085)"
      ]
     },
     "execution_count": 63,
     "metadata": {},
     "output_type": "execute_result"
    }
   ],
   "source": [
    "gdf_all.head()"
   ]
  },
  {
   "cell_type": "code",
   "execution_count": null,
   "metadata": {},
   "outputs": [],
   "source": [
    "# fig, ax=plt.subplots(1, figsize=(10,10))\n",
    "# replica.plot(ax=ax)\n",
    "# gdf_all[gdf_all.stationid=='PL0002'].plot(ax=ax, color='red')\n",
    "# ax.set_ylim(11000000,11200000)\n",
    "# ax.set_xlim(3200000,3600000)"
   ]
  },
  {
   "cell_type": "code",
   "execution_count": null,
   "metadata": {},
   "outputs": [],
   "source": []
  },
  {
   "cell_type": "code",
   "execution_count": null,
   "metadata": {},
   "outputs": [],
   "source": [
    "#Buffer\n",
    "stations_buffer=gdf_all.copy(deep=True)\n",
    "stations_buffer.geometry=stations_buffer.geometry.buffer(5280) #5280ft ~ 1mile"
   ]
  },
  {
   "cell_type": "code",
   "execution_count": null,
   "metadata": {},
   "outputs": [],
   "source": [
    "stations_buffer['indexx']=stations_buffer.index\n",
    "replica[\"area_parcel\"]=replica.geometry.area\n",
    "inter = gpd.overlay(replica,stations_buffer, how='intersection')\n",
    "inter[\"area\"]=inter.geometry.area"
   ]
  },
  {
   "cell_type": "code",
   "execution_count": 5,
   "metadata": {},
   "outputs": [],
   "source": [
    "def get_buffer_info(inter):\n",
    "    ws= lambda x: round(np.sum(x*(inter.loc[x.index, \"area\"])/(inter.loc[x.index, \"area_parcel\"])),5)\n",
    "    f = {\n",
    "        'la_total':ws, 'la_single':ws, 'la_multi':ws, 'la_retail':ws,\n",
    "       'la_office':ws, 'la_attract':ws, 'la_mu_res':ws, 'la_mu_comm':ws, 'la_mu_indu':ws,\n",
    "       'la_mu_oth':ws, 'la_industr':ws, 'la_health':ws, 'la_edu':ws, 'la_civ_oth':ws,\n",
    "       'la_transpo':ws, 'la_space':ws, 'la_agri':ws, 'la_other':ws, 'la_unknown':ws,\n",
    "        }\n",
    "\n",
    "    newdf=inter.groupby(\"indexx\").agg(f)\n",
    "    return newdf"
   ]
  },
  {
   "cell_type": "code",
   "execution_count": null,
   "metadata": {},
   "outputs": [],
   "source": [
    "newdf=get_buffer_info(inter)\n",
    "DF1=pd.concat([newdf,stations_buffer[['stationid']]],axis=1)"
   ]
  },
  {
   "cell_type": "code",
   "execution_count": 29,
   "metadata": {},
   "outputs": [],
   "source": [
    "buffer_radii = [ 2640]\n",
    "buffer_radii_name = ['05mile']\n",
    "#columns = ['stationid'] + [f'{roadway_type}_{buffer_radius}' for roadway_type, buffer_radius in itertools.product(roadway_types, buffer_radii_name )]\n",
    "#df = pd.DataFrame(columns=columns)\n",
    "DF=pd.DataFrame(index=range(681))\n",
    "replica[\"area_parcel\"]=replica.geometry.area\n",
    "#Joining station and roadway network\n",
    "for buffer_radius, buffer_radius_name in zip(buffer_radii, buffer_radii_name):\n",
    "    stations_buffer = gdf_all.copy(deep=True)\n",
    "    stations_buffer.geometry = gdf_all.geometry.buffer(buffer_radius)\n",
    "    stations_buffer['indexx']=stations_buffer.index\n",
    "    inter = gpd.overlay(replica,stations_buffer, how='intersection')\n",
    "    inter[\"area\"]=inter.geometry.area\n",
    "    newdf=get_buffer_info(inter)\n",
    "    DF1=pd.concat([newdf,stations_buffer[['stationid']]],axis=1)\n",
    "    DF1['lu_replica_res'] = DF1[['la_single','la_multi','la_mu_res']].sum(axis=1)\n",
    "    DF1['lu_replica_com'] = DF1[['la_retail','la_office','la_attract','la_mu_comm','la_health', 'la_edu', 'la_civ_oth', 'la_transpo']].sum(axis=1)\n",
    "    DF1['lu_replica_ind'] = DF1[['la_mu_indu','la_industr','la_agri']].sum(axis=1)\n",
    "    DF1['lu_replica_vac'] = DF1[['la_space','la_mu_oth','la_other', 'la_unknown']].sum(axis=1)\n",
    "    DF1['sum_area'] = DF1['lu_replica_res'] + DF1['lu_replica_com'] + DF1['lu_replica_ind'] + DF1['lu_replica_vac']\n",
    "    DF1_=(DF1[['lu_replica_res','lu_replica_com','lu_replica_ind','lu_replica_vac']]).div(DF1['sum_area'], axis=0)\n",
    "    DF1=DF1[['stationid','lu_replica_res','lu_replica_com','lu_replica_ind','lu_replica_vac']]\n",
    "    DF1['lu_replica_entropy']=-1*(np.log(DF1_)*DF1_).sum(axis=1)/np.log(4)\n",
    "    DF1.rename(columns={'lu_replica_res':'lu_replica_res_'+buffer_radius_name,\n",
    "                       'lu_replica_com':'lu_replica_com_'+buffer_radius_name,\n",
    "                       'lu_replica_ind':'lu_replica_ind_'+buffer_radius_name,\n",
    "                       'lu_replica_vac':'lu_replica_vac_'+buffer_radius_name,\n",
    "                       'lu_replica_entropy':'lu_replica_entropy_'+buffer_radius_name}, inplace=True)\n",
    "    DF=pd.concat([DF,DF1],axis=1)"
   ]
  },
  {
   "cell_type": "code",
   "execution_count": 30,
   "metadata": {},
   "outputs": [
    {
     "data": {
      "text/plain": [
       "0.7095151637968277"
      ]
     },
     "execution_count": 30,
     "metadata": {},
     "output_type": "execute_result"
    }
   ],
   "source": [
    "DF.lu_replica_entropy_05mile.mean()"
   ]
  },
  {
   "cell_type": "code",
   "execution_count": 31,
   "metadata": {},
   "outputs": [
    {
     "data": {
      "text/plain": [
       "0.9894745118450083"
      ]
     },
     "execution_count": 31,
     "metadata": {},
     "output_type": "execute_result"
    }
   ],
   "source": [
    "DF.lu_replica_entropy_05mile.max()"
   ]
  },
  {
   "cell_type": "code",
   "execution_count": 32,
   "metadata": {},
   "outputs": [
    {
     "data": {
      "text/plain": [
       "0.14839127301101768"
      ]
     },
     "execution_count": 32,
     "metadata": {},
     "output_type": "execute_result"
    }
   ],
   "source": [
    "DF.lu_replica_entropy_05mile.min()"
   ]
  },
  {
   "cell_type": "code",
   "execution_count": 33,
   "metadata": {},
   "outputs": [
    {
     "data": {
      "text/plain": [
       "0.14605235331404004"
      ]
     },
     "execution_count": 33,
     "metadata": {},
     "output_type": "execute_result"
    }
   ],
   "source": [
    "DF.lu_replica_entropy_05mile.std()"
   ]
  },
  {
   "cell_type": "code",
   "execution_count": 34,
   "metadata": {},
   "outputs": [],
   "source": [
    "DF.to_csv('Data/Temp/FULL_replicalanduse_v3.csv', index=False)"
   ]
  },
  {
   "cell_type": "code",
   "execution_count": null,
   "metadata": {},
   "outputs": [],
   "source": []
  }
 ],
 "metadata": {
  "kernelspec": {
   "display_name": "Python 3 (ipykernel)",
   "language": "python",
   "name": "python3"
  },
  "language_info": {
   "codemirror_mode": {
    "name": "ipython",
    "version": 3
   },
   "file_extension": ".py",
   "mimetype": "text/x-python",
   "name": "python",
   "nbconvert_exporter": "python",
   "pygments_lexer": "ipython3",
   "version": "3.10.9"
  },
  "vscode": {
   "interpreter": {
    "hash": "2b53270c4e50afbf33628a12059691a33f1558a8e427dc048f15f23fd121ba86"
   }
  }
 },
 "nbformat": 4,
 "nbformat_minor": 2
}
